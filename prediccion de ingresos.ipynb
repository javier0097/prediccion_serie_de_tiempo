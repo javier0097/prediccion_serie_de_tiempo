{
 "cells": [
  {
   "cell_type": "code",
   "execution_count": null,
   "id": "1e3379fb-5b68-48d4-96fd-fe5931f441a8",
   "metadata": {},
   "outputs": [],
   "source": [
    "import pandas as pd\n",
    "import numpy as np\n",
    "import matplotlib.pyplot as plt\n",
    "import matplotlib.gridspec as gridspec\n",
    "import scipy.stats as stats\n",
    "import statsmodels.tsa.stattools as sts\n",
    "from sklearn.metrics import mean_squared_error\n",
    "from sklearn.metrics import mean_absolute_error\n",
    "from sklearn.metrics import mean_absolute_percentage_error\n",
    "from statsmodels.tsa.seasonal import seasonal_decompose\n",
    "import statsmodels.graphics.tsaplots as sgt\n",
    "from statsmodels.tsa.statespace.sarimax import SARIMAX\n",
    "from scipy.stats.distributions import chi2\n",
    "import os\n",
    "\n",
    "from pandas.tseries.offsets import CustomBusinessDay\n",
    "\n",
    "pd.set_option('display.max_columns', None)"
   ]
  },
  {
   "cell_type": "code",
   "execution_count": null,
   "id": "c973584f-45b5-46e9-b42d-8c3a6c13a5a5",
   "metadata": {},
   "outputs": [],
   "source": [
    "os.getcwd()"
   ]
  },
  {
   "cell_type": "code",
   "execution_count": null,
   "id": "8def616a-d9ea-4c74-9051-73115aaa2e6d",
   "metadata": {},
   "outputs": [],
   "source": [
    "df = pd.read_excel(\"./lecturas.xlsx\")"
   ]
  },
  {
   "cell_type": "code",
   "execution_count": null,
   "id": "c7ce70e5-0bec-49b8-98e4-01c08c002c7e",
   "metadata": {},
   "outputs": [],
   "source": [
    "df.head()"
   ]
  },
  {
   "cell_type": "code",
   "execution_count": null,
   "id": "31e08832-6e5c-4b53-9e5b-3126cdd49be1",
   "metadata": {},
   "outputs": [],
   "source": [
    "df.shape"
   ]
  },
  {
   "cell_type": "markdown",
   "id": "8d4760ea-be57-4872-a76d-bc12c2a3b4f1",
   "metadata": {},
   "source": [
    "# Tratamiento de nulos"
   ]
  },
  {
   "cell_type": "code",
   "execution_count": null,
   "id": "dab52c46-40d1-4411-bf56-52d938a4e4d9",
   "metadata": {},
   "outputs": [],
   "source": [
    "df.isnull().sum()"
   ]
  },
  {
   "cell_type": "code",
   "execution_count": null,
   "id": "8cb34b5b-97e8-4a56-961a-44906de5699f",
   "metadata": {},
   "outputs": [],
   "source": [
    "print('valores nulos: ', df.isnull().sum().sum())"
   ]
  },
  {
   "cell_type": "code",
   "execution_count": null,
   "id": "25775045-5eba-4828-97f3-6fc371906567",
   "metadata": {},
   "outputs": [],
   "source": [
    "df.columns"
   ]
  },
  {
   "cell_type": "code",
   "execution_count": null,
   "id": "9c9edd80-5942-4b0a-974c-fbafda096963",
   "metadata": {},
   "outputs": [],
   "source": [
    "df = df.drop(columns=['SOCIO', 'N_SOCIO', 'APELLIDOS', 'NOMBRES', 'DIRECCION', 'NRO', 'FONO',\n",
    "       'RUC_CLI', 'COD', 'CREDITO', 'LITE', 'EMISION', 'MEDIDOR', 'ALUMBRADO', 'BASURA', 'CERTIF', 'TITULO', 'BANDERA', 'CARNET', 'MINIMO', 'MULTAS', \n",
    "        'RECONEX', 'BANDI', 'OTROS', 'ALCANTARI', 'ORDENES', 'HEXA',\n",
    "       'NUMFAC', 'FACTURA', 'COPIA', 'REUNION', 'TRABAJOS', 'CPU'])"
   ]
  },
  {
   "cell_type": "code",
   "execution_count": null,
   "id": "05923d1b-a101-4975-9a23-5984e3468ecc",
   "metadata": {
    "scrolled": true
   },
   "outputs": [],
   "source": [
    "df.tail(30)"
   ]
  },
  {
   "cell_type": "code",
   "execution_count": null,
   "id": "2e727ab9-9a83-4cb0-a681-faf131fa5b34",
   "metadata": {},
   "outputs": [],
   "source": [
    "df.shape"
   ]
  },
  {
   "cell_type": "code",
   "execution_count": null,
   "id": "8a51d3b0-d9a9-4e08-a0f9-13c11acf9536",
   "metadata": {},
   "outputs": [],
   "source": [
    "df.isnull().sum()"
   ]
  },
  {
   "cell_type": "code",
   "execution_count": null,
   "id": "27e7d3f9-2d4c-4976-b8e9-de373120b0e1",
   "metadata": {},
   "outputs": [],
   "source": [
    "df.columns"
   ]
  },
  {
   "cell_type": "code",
   "execution_count": null,
   "id": "c93e59d4-118e-48d8-8bf4-45d5dd805e50",
   "metadata": {},
   "outputs": [],
   "source": [
    "df = df.dropna(subset=['IMPORTE', 'CATEGORIA', 'MES_COBRO', 'LEC_ANTES',\n",
    "       'LECT_HOY', 'CONSUMO', 'ATRASO', 'TOTAL', 'VENCE', 'INGRESO', 'VALOR',\n",
    "       'FLEC', 'FALTAS', 'BENEMERITO', 'ZONA', 'DESCBENEME', 'PASIBLE',\n",
    "       'LEIANTES', 'GESTION'])\n",
    "df.isnull().sum()"
   ]
  },
  {
   "cell_type": "code",
   "execution_count": null,
   "id": "22c3c5ac-790f-47bd-b001-abeea00b9351",
   "metadata": {},
   "outputs": [],
   "source": [
    "df.shape"
   ]
  },
  {
   "cell_type": "markdown",
   "id": "40e57bfc-f162-4336-b338-1d22e69af922",
   "metadata": {},
   "source": [
    "# Tratamiento de fechas"
   ]
  },
  {
   "cell_type": "code",
   "execution_count": null,
   "id": "bd325581-3186-4ade-a6c5-fc750f627317",
   "metadata": {},
   "outputs": [],
   "source": [
    "df.dtypes"
   ]
  },
  {
   "cell_type": "code",
   "execution_count": null,
   "id": "7104f18c-a955-4cc3-b2a8-5dae9ae224e9",
   "metadata": {},
   "outputs": [],
   "source": [
    "df[['VENCE', 'INGRESO', 'FLEC', 'PASIBLE', 'LEIANTES']] = df[['VENCE', 'INGRESO', 'FLEC', 'PASIBLE', 'LEIANTES']].astype(int) #para quiar el .0\n",
    "df[['VENCE', 'INGRESO', 'FLEC', 'PASIBLE', 'LEIANTES']] = df[['VENCE', 'INGRESO', 'FLEC', 'PASIBLE', 'LEIANTES']].astype(str)\n",
    "df.dtypes"
   ]
  },
  {
   "cell_type": "code",
   "execution_count": null,
   "id": "34b030e5-b7d5-49f3-83b7-606f8108560d",
   "metadata": {},
   "outputs": [],
   "source": [
    "fechas = df['FECHA'].value_counts().to_frame()\n",
    "fechas.iloc[1020:1080]"
   ]
  },
  {
   "cell_type": "code",
   "execution_count": null,
   "id": "215842af-7b37-4e97-aa15-493e935920c3",
   "metadata": {},
   "outputs": [],
   "source": [
    "filtered_df = df[(df['FECHA'].str.len() == 8) | (df['FECHA'].isna())]\n",
    "filtered_df.shape"
   ]
  },
  {
   "cell_type": "code",
   "execution_count": null,
   "id": "306423c7-f97a-4d0b-bcb6-10a311eb5ccb",
   "metadata": {
    "scrolled": true
   },
   "outputs": [],
   "source": [
    "vence = filtered_df['VENCE'].value_counts().to_frame()\n",
    "vence.iloc[180:240]"
   ]
  },
  {
   "cell_type": "code",
   "execution_count": null,
   "id": "29187574-39c8-4bbe-ae74-1aa39f188122",
   "metadata": {},
   "outputs": [],
   "source": [
    "filtered_df = filtered_df[(filtered_df['VENCE'].str.len() == 8) | (filtered_df['VENCE'].isna())]\n",
    "filtered_df.shape"
   ]
  },
  {
   "cell_type": "code",
   "execution_count": null,
   "id": "f835b873-143a-41f2-860a-85734f4858b3",
   "metadata": {},
   "outputs": [],
   "source": [
    "ingreso = filtered_df['INGRESO'].value_counts().to_frame()\n",
    "ingreso.iloc[180:240]"
   ]
  },
  {
   "cell_type": "code",
   "execution_count": null,
   "id": "de1e6f35-21eb-44bd-ae4e-785663fef226",
   "metadata": {},
   "outputs": [],
   "source": [
    "flec = filtered_df['FLEC'].value_counts().to_frame()\n",
    "#flec.iloc[60:120]\n",
    "#flec.iloc[120:180]\n",
    "flec.iloc[180:240]"
   ]
  },
  {
   "cell_type": "code",
   "execution_count": null,
   "id": "f79297d6-66ee-402d-90e3-c93cc8a160db",
   "metadata": {},
   "outputs": [],
   "source": [
    "filtered_df = filtered_df[(filtered_df['FLEC'].str.len() == 8) | (filtered_df['FLEC'].isna())]\n",
    "filtered_df.shape"
   ]
  },
  {
   "cell_type": "code",
   "execution_count": null,
   "id": "c75d05be-f0c1-4d1e-907a-996a0a09f49d",
   "metadata": {},
   "outputs": [],
   "source": [
    "pasible = filtered_df['PASIBLE'].value_counts().to_frame()\n",
    "pasible.iloc[180:240]"
   ]
  },
  {
   "cell_type": "code",
   "execution_count": null,
   "id": "99d6694f-9642-4104-a72a-121206d8754c",
   "metadata": {},
   "outputs": [],
   "source": [
    "filtered_df = filtered_df[(filtered_df['PASIBLE'].str.len() == 8) | (filtered_df['PASIBLE'].isna())]\n",
    "filtered_df.shape"
   ]
  },
  {
   "cell_type": "code",
   "execution_count": null,
   "id": "d6b66309-07af-4939-b472-9060219e3436",
   "metadata": {},
   "outputs": [],
   "source": [
    "leiantes = filtered_df['LEIANTES'].value_counts().to_frame()\n",
    "leiantes.iloc[180:240]"
   ]
  },
  {
   "cell_type": "code",
   "execution_count": null,
   "id": "3322e8d8-d40d-4d51-832d-b3c4c5da10d1",
   "metadata": {},
   "outputs": [],
   "source": [
    "filtered_df = filtered_df[(filtered_df['LEIANTES'].str.len() == 8) | (filtered_df['LEIANTES'].isna())]\n",
    "filtered_df.shape"
   ]
  },
  {
   "cell_type": "code",
   "execution_count": null,
   "id": "02e66e3a-273f-42bb-b2e6-e329250096b6",
   "metadata": {},
   "outputs": [],
   "source": [
    "filtered_df[['FECHA', 'VENCE', 'INGRESO', 'FLEC', 'PASIBLE', 'LEIANTES']] = filtered_df[['FECHA', 'VENCE', 'INGRESO', 'FLEC', 'PASIBLE', 'LEIANTES']].astype(float)\n",
    "filtered_df.dtypes"
   ]
  },
  {
   "cell_type": "code",
   "execution_count": null,
   "id": "d4098c3e-f313-4984-b269-efe55836cba9",
   "metadata": {},
   "outputs": [],
   "source": [
    "fechas_erroneas = filtered_df[(filtered_df['VENCE'] > 20260000) | (filtered_df['VENCE'] < 19500000)]\n",
    "fechas_erroneas"
   ]
  },
  {
   "cell_type": "code",
   "execution_count": null,
   "id": "01c5854d-af07-441c-a2c1-845d0a11922f",
   "metadata": {},
   "outputs": [],
   "source": [
    "filtered_df = filtered_df[(filtered_df['VENCE'] < 20260000) & (filtered_df['VENCE'] > 19500000)]\n",
    "filtered_df.shape"
   ]
  },
  {
   "cell_type": "code",
   "execution_count": null,
   "id": "32233006-a028-48a7-a4e3-3052e48b6181",
   "metadata": {},
   "outputs": [],
   "source": [
    "fechas_erroneas = filtered_df[(filtered_df['FLEC'] > 20260000) | (filtered_df['FLEC'] < 19500000)]\n",
    "fechas_erroneas"
   ]
  },
  {
   "cell_type": "code",
   "execution_count": null,
   "id": "e6640454-37fa-4a11-81a8-aadf39644310",
   "metadata": {},
   "outputs": [],
   "source": [
    "filtered_df = filtered_df[(filtered_df['FLEC'] < 20260000) & (filtered_df['FLEC'] > 19500000)]\n",
    "filtered_df.shape"
   ]
  },
  {
   "cell_type": "code",
   "execution_count": null,
   "id": "92d94682-34fc-4437-8079-ea26eb5a69a2",
   "metadata": {},
   "outputs": [],
   "source": [
    "fechas_erroneas = filtered_df[(filtered_df['PASIBLE'] > 20260000) | (filtered_df['PASIBLE'] < 19500000)]\n",
    "fechas_erroneas"
   ]
  },
  {
   "cell_type": "code",
   "execution_count": null,
   "id": "3e1951ac-9ac4-4e1a-b151-93f0f5482dce",
   "metadata": {},
   "outputs": [],
   "source": [
    "filtered_df = filtered_df[(filtered_df['PASIBLE'] < 20260000) & (filtered_df['PASIBLE'] > 19500000)]\n",
    "filtered_df.shape"
   ]
  },
  {
   "cell_type": "code",
   "execution_count": null,
   "id": "744db241-f432-49d0-adaf-aa626f377902",
   "metadata": {},
   "outputs": [],
   "source": [
    "filtered_df[\"FECHA\"] = pd.to_datetime(filtered_df[\"FECHA\"], format='%Y%m%d')\n",
    "filtered_df[\"VENCE\"] = pd.to_datetime(filtered_df[\"VENCE\"], format='%Y%m%d')\n",
    "filtered_df[\"INGRESO\"] = pd.to_datetime(filtered_df[\"INGRESO\"], format='%Y%m%d')\n",
    "filtered_df[\"FLEC\"] = pd.to_datetime(filtered_df[\"FLEC\"], format='%Y%m%d')\n",
    "filtered_df[\"PASIBLE\"] = pd.to_datetime(filtered_df[\"PASIBLE\"], format='%Y%m%d')\n",
    "filtered_df[\"LEIANTES\"] = pd.to_datetime(filtered_df[\"LEIANTES\"], format='%Y%m%d')\n",
    "filtered_df"
   ]
  },
  {
   "cell_type": "markdown",
   "id": "26f2be19-2c89-4229-989c-8396b48afa9f",
   "metadata": {},
   "source": [
    "# Tratamiento de inconsistencias"
   ]
  },
  {
   "cell_type": "code",
   "execution_count": null,
   "id": "9a7bab21-2706-48eb-89a8-0cee0ab83733",
   "metadata": {},
   "outputs": [],
   "source": [
    "concepto = filtered_df['CONCEPTO'].value_counts().to_frame()\n",
    "concepto"
   ]
  },
  {
   "cell_type": "code",
   "execution_count": null,
   "id": "66847882-4df9-46ee-93f1-1577b4515d66",
   "metadata": {},
   "outputs": [],
   "source": [
    "filtered_df[\"CONCEPTO\"] = filtered_df[\"CONCEPTO\"].notna().astype(int)\n",
    "concepto = filtered_df['CONCEPTO'].value_counts().to_frame()\n",
    "concepto"
   ]
  },
  {
   "cell_type": "code",
   "execution_count": null,
   "id": "edebbd64-7825-4284-a700-2a76d0d71b5f",
   "metadata": {},
   "outputs": [],
   "source": [
    "filtered_df = filtered_df.rename(columns={'CONCEPTO':'CANCELADO'})\n",
    "filtered_df.columns"
   ]
  },
  {
   "cell_type": "markdown",
   "id": "29db602f-01d5-41c8-989c-19b439a4671f",
   "metadata": {},
   "source": [
    "no se elimino ninguna fila, solo se transformo"
   ]
  },
  {
   "cell_type": "code",
   "execution_count": null,
   "id": "eb678389-8586-42b8-820c-68b2adb1c82f",
   "metadata": {},
   "outputs": [],
   "source": [
    "importe = filtered_df['CATEGORIA'].value_counts().to_frame()\n",
    "importe"
   ]
  },
  {
   "cell_type": "code",
   "execution_count": null,
   "id": "b0967504-a617-4a80-9e97-be6b15d40c79",
   "metadata": {},
   "outputs": [],
   "source": [
    "correcciones = {\n",
    "    'DOMESTICA': 'Domestica',\n",
    "    'COMERCIAL': 'Comercial',\n",
    "    'especial': 'Especial'\n",
    "}\n",
    "filtered_df['CATEGORIA'] = filtered_df['CATEGORIA'].replace(correcciones)\n",
    "importe = filtered_df['CATEGORIA'].value_counts().to_frame()\n",
    "importe"
   ]
  },
  {
   "cell_type": "markdown",
   "id": "a8a42c13-090f-4a18-afda-155ea9f76449",
   "metadata": {},
   "source": [
    "no se elimino ninguna fila, solo se corrigio"
   ]
  },
  {
   "cell_type": "code",
   "execution_count": null,
   "id": "8722cd30-dbbc-4c42-9960-d6287aa7b68a",
   "metadata": {},
   "outputs": [],
   "source": [
    "zona = filtered_df['ZONA'].value_counts().to_frame()\n",
    "zona"
   ]
  },
  {
   "cell_type": "code",
   "execution_count": null,
   "id": "d9a2f238-a845-4c07-a647-762434d67a91",
   "metadata": {},
   "outputs": [],
   "source": [
    "filtered_df['ZONA'] = filtered_df['ZONA'].replace('R5', 'R')\n",
    "zona = filtered_df['ZONA'].value_counts().to_frame()\n",
    "zona"
   ]
  },
  {
   "cell_type": "code",
   "execution_count": null,
   "id": "03855770-6271-41a3-bd5e-08e41a773c32",
   "metadata": {},
   "outputs": [],
   "source": [
    "filtered_df"
   ]
  },
  {
   "cell_type": "markdown",
   "id": "ff1c33e9-1fd9-40bc-b411-f89045b60234",
   "metadata": {},
   "source": [
    "# Tratamiento de valores atipicos"
   ]
  },
  {
   "cell_type": "code",
   "execution_count": null,
   "id": "2871a9ee-2e7e-4f40-b5b3-045d12da5977",
   "metadata": {},
   "outputs": [],
   "source": [
    "filtered_df[['IMPORTE', 'CONSUMO', 'TOTAL', 'CORTE', 'FALTAS']].describe()"
   ]
  },
  {
   "cell_type": "code",
   "execution_count": null,
   "id": "20d440a2-7659-4b25-9a1d-ace7260fec5d",
   "metadata": {},
   "outputs": [],
   "source": [
    "q1 = filtered_df['TOTAL'].quantile(q=0.25)\n",
    "q3 = filtered_df['TOTAL'].quantile(q=0.75)\n",
    "iqr = q3 - q1\n",
    "print('cuartil 1: ', q1)\n",
    "print('cuartil 3: ', q3)\n",
    "print('rango intercuartilico: ', iqr)"
   ]
  },
  {
   "cell_type": "code",
   "execution_count": null,
   "id": "ffe73065-b666-44b5-9179-06907a3fbd01",
   "metadata": {},
   "outputs": [],
   "source": [
    "print('limite inferior: ', q1 - 1.5 * iqr)\n",
    "print('limite superior: ', q3 + 1.5 * iqr)"
   ]
  },
  {
   "cell_type": "code",
   "execution_count": null,
   "id": "20caa32d-2801-4ed6-bfce-9d4ec5df65d3",
   "metadata": {},
   "outputs": [],
   "source": [
    "fuera = filtered_df[((filtered_df['TOTAL'] < (q1 - 1.5 * iqr)) | (filtered_df['TOTAL'] > (q3 + 1.5 * iqr))) & filtered_df['CANCELADO'] == 1]\n",
    "fuera"
   ]
  },
  {
   "cell_type": "code",
   "execution_count": null,
   "id": "2dfe1388-9408-448d-af8c-156fc6efaf57",
   "metadata": {},
   "outputs": [],
   "source": [
    "negativos = filtered_df[filtered_df['TOTAL']<0]\n",
    "negativos"
   ]
  },
  {
   "cell_type": "code",
   "execution_count": null,
   "id": "9cb478be-3c4d-4bb8-b637-72d7f3406794",
   "metadata": {},
   "outputs": [],
   "source": [
    "total_df = filtered_df[(((filtered_df['TOTAL'] > 0) & (filtered_df['TOTAL'] < (q3 + 1.5 * iqr)))) & filtered_df['CANCELADO'] == 1]\n",
    "total_df"
   ]
  },
  {
   "cell_type": "markdown",
   "id": "a7168d67-f40f-4737-a78e-df69acaceb9a",
   "metadata": {},
   "source": [
    "# Agrupamiento por fechas"
   ]
  },
  {
   "cell_type": "code",
   "execution_count": null,
   "id": "02cf05ab-4f02-4edf-89a7-fa548b137a3a",
   "metadata": {},
   "outputs": [],
   "source": [
    "grouped_df = total_df.groupby(['FECHA']).agg({'TOTAL': np.sum}).sort_values(['FECHA'], ascending=True)\n",
    "grouped_df"
   ]
  },
  {
   "cell_type": "code",
   "execution_count": null,
   "id": "b3fc14c7-9b21-49ea-845f-2919e9d3cfc7",
   "metadata": {},
   "outputs": [],
   "source": [
    "custom_freq = CustomBusinessDay(weekmask='Mon Tue Wed Thu Fri Sat')\n",
    "grouped_df = grouped_df.asfreq(custom_freq)"
   ]
  },
  {
   "cell_type": "code",
   "execution_count": null,
   "id": "b7cae3cb-c837-46f2-a40f-3c06652bfe7e",
   "metadata": {},
   "outputs": [],
   "source": [
    "grouped_df.isna().sum()"
   ]
  },
  {
   "cell_type": "code",
   "execution_count": null,
   "id": "8b1a9cb3-c5af-4c5a-8fb9-319fc43f7616",
   "metadata": {},
   "outputs": [],
   "source": [
    "grouped_df = grouped_df.fillna(1)\n",
    "grouped_df"
   ]
  },
  {
   "cell_type": "code",
   "execution_count": null,
   "id": "194b83e7-f794-43aa-94cc-13c44ff299dc",
   "metadata": {},
   "outputs": [],
   "source": [
    "grouped_df[\"TOTAL\"].plot(figsize=(20,8), title = \"Total pagos diario\")\n",
    "plt.show()"
   ]
  },
  {
   "cell_type": "code",
   "execution_count": null,
   "id": "2c094b61-9c6f-41ea-9e23-7e23c0716578",
   "metadata": {},
   "outputs": [],
   "source": [
    "anio = grouped_df.loc['2023-01-01':'2023-12-31']\n",
    "anio[\"TOTAL\"].plot(figsize=(20,5), title = \"Total pagos diario\")\n",
    "plt.show()"
   ]
  },
  {
   "cell_type": "code",
   "execution_count": null,
   "id": "4652c952-081b-4754-ba6e-5c52964685e4",
   "metadata": {},
   "outputs": [],
   "source": [
    "anio_22 = grouped_df.loc['2022-01-01':'2022-12-31']\n",
    "anio_22[\"TOTAL\"].plot(figsize=(20,5), title = \"Total pagos diario\")\n",
    "plt.show()"
   ]
  },
  {
   "cell_type": "code",
   "execution_count": null,
   "id": "eeafce09-a3d6-4e67-82f1-8f56177c7f9b",
   "metadata": {},
   "outputs": [],
   "source": [
    "anio_24 = grouped_df.loc['2024-01-01':'2024-12-31']\n",
    "anio_24[\"TOTAL\"].plot(figsize=(20,5), title = \"Total pagos diario\")\n",
    "plt.show()"
   ]
  },
  {
   "cell_type": "code",
   "execution_count": null,
   "id": "3fd774bf-32da-4c35-b648-78381a623d35",
   "metadata": {},
   "outputs": [],
   "source": [
    "mes = grouped_df.loc['2023-12-01':'2023-12-31']\n",
    "mes[\"TOTAL\"].plot(figsize=(20,5), title = \"Total pagos diario\")\n",
    "plt.show()"
   ]
  },
  {
   "cell_type": "markdown",
   "id": "0c334102-a03a-4039-8124-35b38b406c0d",
   "metadata": {},
   "source": [
    "# Tratamiento de valores atipicos en la serie de tiempo"
   ]
  },
  {
   "cell_type": "code",
   "execution_count": null,
   "id": "07bd4744-cdf4-4ae4-90c4-38b82e7a9b9e",
   "metadata": {},
   "outputs": [],
   "source": [
    "q1_serie = grouped_df['TOTAL'].quantile(q=0.25)\n",
    "q3_serie = grouped_df['TOTAL'].quantile(q=0.75)\n",
    "iqr_serie = q3_serie - q1_serie\n",
    "print('q1: ', q1_serie)\n",
    "print('q3: ', q3_serie)\n",
    "print('iqr: ', iqr_serie)\n",
    "plt.ylim(0, 3000)\n",
    "plt.boxplot(grouped_df['TOTAL'])"
   ]
  },
  {
   "cell_type": "code",
   "execution_count": null,
   "id": "b85ab332-1864-4bf8-adbc-177ea9660e71",
   "metadata": {},
   "outputs": [],
   "source": [
    "lower_bound = q1_serie - 1.5 * iqr_serie\n",
    "upper_bound = q3_serie + 1.5 * iqr_serie\n",
    "print('limite inferior: ', lower_bound)\n",
    "print('limite superior: ', upper_bound)"
   ]
  },
  {
   "cell_type": "code",
   "execution_count": null,
   "id": "44f3bb13-2df0-4627-aabf-9705e21f64f1",
   "metadata": {},
   "outputs": [],
   "source": [
    "fig = plt.figure(figsize=(14, 8))\n",
    "gs = gridspec.GridSpec(1, 2, width_ratios=[7, 1])\n",
    "ax1 = plt.subplot(gs[0])\n",
    "ax1.plot(grouped_df)\n",
    "ax2 = plt.subplot(gs[1])\n",
    "ax2.boxplot(grouped_df['TOTAL'])\n",
    "ax1.axhline(upper_bound, color='red')\n",
    "ax2.axhline(upper_bound, color='red',  label='outliers')\n",
    "ax2.legend()\n",
    "plt.tight_layout()\n",
    "plt.show()"
   ]
  },
  {
   "cell_type": "code",
   "execution_count": null,
   "id": "361a4764-30d2-4390-ab51-04531164555a",
   "metadata": {},
   "outputs": [],
   "source": [
    "fuera = grouped_df[(grouped_df['TOTAL'] > upper_bound)]\n",
    "fuera.count()"
   ]
  },
  {
   "cell_type": "markdown",
   "id": "85ec0371-c136-4279-96b3-484d5fbf6d6f",
   "metadata": {},
   "source": [
    "### Winsorization"
   ]
  },
  {
   "cell_type": "code",
   "execution_count": null,
   "id": "3b0c1b2d-543c-4982-b10a-062167eb7d1a",
   "metadata": {},
   "outputs": [],
   "source": [
    "q99 = grouped_df['TOTAL'].quantile(q=0.99)\n",
    "q99"
   ]
  },
  {
   "cell_type": "code",
   "execution_count": null,
   "id": "2e42617a-8163-4b2e-a226-9fab7eb7c387",
   "metadata": {},
   "outputs": [],
   "source": [
    "fuera = grouped_df[(grouped_df['TOTAL'] > q99)]\n",
    "fuera.count()"
   ]
  },
  {
   "cell_type": "code",
   "execution_count": null,
   "id": "da453f68-919a-4a03-94da-4a94891d1acf",
   "metadata": {},
   "outputs": [],
   "source": [
    "grouped_df.loc[grouped_df['TOTAL'] > q99, 'TOTAL'] = q99\n",
    "grouped_df[\"TOTAL\"].plot(figsize=(20,10), title = \"Total pagos diario\")\n",
    "plt.show()"
   ]
  },
  {
   "cell_type": "markdown",
   "id": "46566aa0-283e-4779-b65a-9de0c8939d9c",
   "metadata": {},
   "source": [
    "# Division de los datos"
   ]
  },
  {
   "cell_type": "code",
   "execution_count": null,
   "id": "60d0767f-ee11-4e46-a165-50771e03a540",
   "metadata": {},
   "outputs": [],
   "source": [
    "size = int(len(grouped_df)*0.8)\n",
    "train_df = grouped_df.iloc[:size]\n",
    "test_df = grouped_df.iloc[size:]"
   ]
  },
  {
   "cell_type": "code",
   "execution_count": null,
   "id": "b4ed2508-0f13-42b9-a2ac-131a2afb88b2",
   "metadata": {},
   "outputs": [],
   "source": [
    "train_df"
   ]
  },
  {
   "cell_type": "code",
   "execution_count": null,
   "id": "e6430fb9-ce97-4d33-aaa2-364656209fe2",
   "metadata": {},
   "outputs": [],
   "source": [
    "test_df"
   ]
  },
  {
   "cell_type": "code",
   "execution_count": null,
   "id": "3439cbc3-af71-46db-8273-046b6239e1a4",
   "metadata": {},
   "outputs": [],
   "source": [
    "test_df[\"TOTAL\"].plot(figsize=(20,5), title = \"Total pagos diario (datos validacion)\")\n",
    "plt.show()"
   ]
  },
  {
   "cell_type": "markdown",
   "id": "aa538147-6cfe-46a6-90f1-e12e404ea7e8",
   "metadata": {},
   "source": [
    "# Estacionariedad"
   ]
  },
  {
   "cell_type": "code",
   "execution_count": null,
   "id": "dc4f4f9d-de48-4c6e-b391-2245c2a01755",
   "metadata": {},
   "outputs": [],
   "source": [
    "sts.adfuller(grouped_df.TOTAL)"
   ]
  },
  {
   "cell_type": "markdown",
   "id": "1d067858-4db4-4a55-9011-a6d90a457511",
   "metadata": {},
   "source": [
    "# Estacionalidad"
   ]
  },
  {
   "cell_type": "code",
   "execution_count": null,
   "id": "f03265db-0564-4e8b-b6cc-45ef21eca6eb",
   "metadata": {},
   "outputs": [],
   "source": [
    "aditivo = seasonal_decompose(grouped_df.TOTAL, model=\"additive\", period=26)\n",
    "aditivo.plot()\n",
    "plt.show()"
   ]
  },
  {
   "cell_type": "markdown",
   "id": "401937ad-ba30-44a7-92ff-93fa22f6be66",
   "metadata": {},
   "source": [
    "# Autocorrelacion"
   ]
  },
  {
   "cell_type": "code",
   "execution_count": null,
   "id": "f35f868a-58a2-4245-bc68-25ade4199db7",
   "metadata": {},
   "outputs": [],
   "source": [
    "sgt.plot_acf(grouped_df.TOTAL, lags = 40, zero = False)\n",
    "plt.ylim(-0.2, 0.5)\n",
    "plt.show()"
   ]
  },
  {
   "cell_type": "code",
   "execution_count": null,
   "id": "e6995b32-3ba1-4778-a1c2-5bd35458ad22",
   "metadata": {},
   "outputs": [],
   "source": [
    "sgt.plot_pacf(grouped_df.TOTAL, lags = 40, zero = False, method = ('ols')) \n",
    "plt.ylim(-0.2, 0.5)\n",
    "plt.show()"
   ]
  },
  {
   "cell_type": "markdown",
   "id": "9387c967-d4e4-4d37-8a70-b9bacd96b5a0",
   "metadata": {},
   "source": [
    "# LSTM"
   ]
  },
  {
   "cell_type": "raw",
   "id": "f2a12469-cecd-450c-97ac-fac72615ab19",
   "metadata": {},
   "source": [
    " !pip install tensorflow"
   ]
  },
  {
   "cell_type": "raw",
   "id": "c26ac0f7-75cf-44de-bbf6-67195cdf84dc",
   "metadata": {},
   "source": [
    "!pip install keras"
   ]
  },
  {
   "cell_type": "code",
   "execution_count": null,
   "id": "5a4c53e9-56d2-4327-bded-9f98121d0612",
   "metadata": {},
   "outputs": [],
   "source": [
    "train_max = train_df.max()\n",
    "train_min = train_df.min()\n",
    "train_set_scaled = (train_df - train_min)/(train_max - train_min)\n",
    "test_set_scaled = (test_df - train_min)/(train_max - train_min)\n",
    "train_set_scaled"
   ]
  },
  {
   "cell_type": "code",
   "execution_count": null,
   "id": "51314c3f-1894-44ea-abd0-08f1c5f3a063",
   "metadata": {},
   "outputs": [],
   "source": [
    "def create_dataset(X, y, time_steps=1):\n",
    "    Xs, ys = [], []\n",
    "    for i in range(len(X) - time_steps):\n",
    "        v = X.iloc[i:(i + time_steps)].values\n",
    "        Xs.append(v)\n",
    "        ys.append(y.iloc[i + time_steps])\n",
    "    return np.array(Xs), np.array(ys)"
   ]
  },
  {
   "cell_type": "code",
   "execution_count": null,
   "id": "cbf09496-b833-4ae3-9c63-0f15bbaf5c2c",
   "metadata": {},
   "outputs": [],
   "source": [
    "time_steps = 1\n",
    "\n",
    "X_train_1, y_train_1 = create_dataset(train_set_scaled, train_set_scaled.TOTAL , time_steps)\n",
    "X_test_1,  y_test_1  = create_dataset(test_set_scaled,  test_set_scaled.TOTAL, time_steps)"
   ]
  },
  {
   "cell_type": "code",
   "execution_count": null,
   "id": "b3ec09bb-0773-4e70-8b64-d9f03835dbf0",
   "metadata": {
    "application/vnd.databricks.v1+cell": {
     "cellMetadata": {
      "byteLimit": 2048000,
      "rowLimit": 10000
     },
     "inputWidgets": {},
     "nuid": "21486c4d-5126-4cde-92b8-892108dd611c",
     "showTitle": false,
     "title": ""
    },
    "id": "GiIj8KgUzls_"
   },
   "outputs": [],
   "source": [
    "from keras.models import Sequential \n",
    "from keras.layers import Dense      \n",
    "from keras.layers import LSTM       \n",
    "from keras.layers import Dropout    \n",
    "\n",
    "def lstm_architecture(X_data,rate_dropout):\n",
    "    model = Sequential()\n",
    "\n",
    "    model.add(LSTM(units = 250, return_sequences = True, input_shape=(X_data.shape[1], X_data.shape[2])))\n",
    "    model.add(Dropout(rate=rate_dropout))\n",
    "\n",
    "    model.add(LSTM(units = 250, return_sequences = True))\n",
    "    model.add(Dropout(rate=rate_dropout))\n",
    "\n",
    "    model.add(LSTM(units = 250, return_sequences = True))\n",
    "    model.add(Dropout(rate=rate_dropout))\n",
    "\n",
    "    model.add(LSTM(units = 250, return_sequences = False))\n",
    "    model.add(Dropout(rate=rate_dropout))\n",
    "\n",
    "    model.add(Dense(units = 1))\n",
    "\n",
    "    model.summary()\n",
    "\n",
    "    return model"
   ]
  },
  {
   "cell_type": "code",
   "execution_count": null,
   "id": "67e97fb1-4aa9-4a94-8385-758ca95d987e",
   "metadata": {},
   "outputs": [],
   "source": [
    "import datetime\n",
    "print('Iniciando a las: ', datetime.datetime.now())\n",
    "print(\"...\")\n",
    "\n",
    "model_1 = lstm_architecture(X_data = X_train_1, rate_dropout = 0.2)\n",
    "model_1.compile(optimizer = 'adam', loss = 'mean_squared_error')"
   ]
  },
  {
   "cell_type": "code",
   "execution_count": null,
   "id": "ef929147-3f26-495b-a560-8209476e72c6",
   "metadata": {},
   "outputs": [],
   "source": [
    "history_1 = model_1.fit(X_train_1,\n",
    "                    y_train_1,\n",
    "                    epochs=100,\n",
    "                    batch_size=32,\n",
    "                    shuffle=False)\n",
    "\n",
    "print(\"...\")\n",
    "print('Terminando a las: ', datetime.datetime.now())"
   ]
  },
  {
   "cell_type": "code",
   "execution_count": null,
   "id": "d9a68d2b-47b8-4ecb-817f-2e600c557d7c",
   "metadata": {},
   "outputs": [],
   "source": [
    "plt.plot(history_1.history['loss'], label='train')\n",
    "plt.title('Loss function (time_steps = 1)')\n",
    "plt.show()"
   ]
  },
  {
   "cell_type": "code",
   "execution_count": null,
   "id": "5cfcd6cd-aa7b-4423-9bb4-88daec758cdd",
   "metadata": {},
   "outputs": [],
   "source": [
    "y_pred_1 = model_1.predict(X_test_1)"
   ]
  },
  {
   "cell_type": "code",
   "execution_count": null,
   "id": "752cbd03-74f3-4914-9be3-58f1cf2ff214",
   "metadata": {},
   "outputs": [],
   "source": [
    "y_test_1 = y_test_1 * (train_max[0] - train_min[0]) + train_min[0]    \n",
    "y_pred_1 = y_pred_1 * (train_max[0] - train_min[0]) + train_min[0]    \n",
    "y_train_1 = y_train_1 * (train_max[0] - train_min[0]) + train_min[0] "
   ]
  },
  {
   "cell_type": "code",
   "execution_count": null,
   "id": "433acbb6-759b-4c26-b599-b41c2459ad5b",
   "metadata": {},
   "outputs": [],
   "source": [
    "plt.figure(num=None, figsize=(25, 10), dpi=80, facecolor='w', edgecolor='k')\n",
    "plt.plot(np.arange(len(y_train_1), len(y_train_1) + len(y_test_1)), y_test_1.flatten(), marker='.', label=\"true\")\n",
    "plt.plot(np.arange(len(y_train_1), len(y_train_1) + len(y_test_1)), y_pred_1.flatten(), 'r', marker='.', label=\"prediction\")\n",
    "#plt.plot(np.arange(0, len(y_train_1)), y_train_1.flatten(), 'g', marker='.', label=\"history\")\n",
    "plt.ylabel('Count')\n",
    "plt.xlabel('Time Step')\n",
    "plt.legend()\n",
    "plt.show()"
   ]
  },
  {
   "cell_type": "code",
   "execution_count": null,
   "id": "43e37735-7edd-4d15-af5b-9c7d90080e7f",
   "metadata": {},
   "outputs": [],
   "source": [
    "mse = mean_squared_error(y_test_1, y_pred_1)\n",
    "rmse = np.sqrt(mse)\n",
    "print(f'RMSE: ',rmse)\n",
    "\n",
    "mape = mean_absolute_percentage_error(y_test_1, y_pred_1)\n",
    "print(f'MAPE: ', mape)\n",
    "\n",
    "mae = mean_absolute_error(y_test_1, y_pred_1)\n",
    "print(f'MAE: ',mae)"
   ]
  },
  {
   "cell_type": "code",
   "execution_count": null,
   "id": "157b8c2a-22e8-4fbb-9023-ca9f660d1651",
   "metadata": {},
   "outputs": [],
   "source": [
    "time_steps = 6\n",
    "\n",
    "X_train_6, y_train_6 = create_dataset(train_set_scaled, train_set_scaled.TOTAL , time_steps)\n",
    "X_test_6,  y_test_6  = create_dataset(test_set_scaled,  test_set_scaled.TOTAL, time_steps)"
   ]
  },
  {
   "cell_type": "code",
   "execution_count": null,
   "id": "2466005d-6689-4bde-8bc1-87bfba9c1892",
   "metadata": {},
   "outputs": [],
   "source": [
    "model_2 = lstm_architecture(X_data=X_train_6,rate_dropout=0.2)\n",
    "model_2.compile(optimizer = 'adam', loss = 'mean_squared_error')"
   ]
  },
  {
   "cell_type": "code",
   "execution_count": null,
   "id": "b69b2b9c-ce92-411e-83ac-37f29e5381d5",
   "metadata": {},
   "outputs": [],
   "source": [
    "history_2 = model_2.fit(X_train_6,\n",
    "                    y_train_6,\n",
    "                    epochs=100,\n",
    "                    batch_size=32,\n",
    "                    shuffle=False)\n",
    "\n",
    "print(\"...\")\n",
    "print('Terminando a las: ', datetime.datetime.now())"
   ]
  },
  {
   "cell_type": "code",
   "execution_count": null,
   "id": "f710e501-50cd-4e52-9f31-1bac8f0b37b5",
   "metadata": {},
   "outputs": [],
   "source": [
    "plt.plot(history_2.history['loss'], label='train')\n",
    "plt.title('Loss function (time_steps = 6)')\n",
    "plt.show()"
   ]
  },
  {
   "cell_type": "code",
   "execution_count": null,
   "id": "0914ffb8-9859-4ff1-85f8-1f31dcab0bf8",
   "metadata": {},
   "outputs": [],
   "source": [
    "y_pred_6 = model_2.predict(X_test_6)"
   ]
  },
  {
   "cell_type": "code",
   "execution_count": null,
   "id": "f32d85ef-3ac8-41fd-8f46-c13bd45d85ab",
   "metadata": {},
   "outputs": [],
   "source": [
    "y_test_6 = y_test_6 * (train_max[0] - train_min[0]) + train_min[0]    \n",
    "y_pred_6 = y_pred_6 * (train_max[0] - train_min[0]) + train_min[0]    \n",
    "y_train_6 = y_train_6 * (train_max[0] - train_min[0]) + train_min[0]  "
   ]
  },
  {
   "cell_type": "code",
   "execution_count": null,
   "id": "09b72d3c-d2f9-450f-9490-0ada91198f6c",
   "metadata": {},
   "outputs": [],
   "source": [
    "plt.figure(num=None, figsize=(15, 6), dpi=80, facecolor='w', edgecolor='k')\n",
    "plt.plot(np.arange(len(y_train_6), len(y_train_6) + len(y_test_6)), y_test_6.flatten(), marker='.', label=\"true\")\n",
    "plt.plot(np.arange(len(y_train_6), len(y_train_6) + len(y_test_6)), y_pred_6.flatten(), 'r', marker='.', label=\"prediction\")\n",
    "#plt.plot(np.arange(0, len(y_train_6)), y_train_6.flatten(), 'g', marker='.', label=\"history\")\n",
    "plt.ylabel('Count')\n",
    "plt.xlabel('Time Step')\n",
    "plt.legend()\n",
    "plt.show()"
   ]
  },
  {
   "cell_type": "code",
   "execution_count": null,
   "id": "4ef1dbce-9f10-4548-a689-37f37b6b7cef",
   "metadata": {},
   "outputs": [],
   "source": [
    "mse = mean_squared_error(y_test_6, y_pred_6)\n",
    "rmse = np.sqrt(mse)\n",
    "print(f'RMSE: ',rmse)\n",
    "\n",
    "mape = mean_absolute_percentage_error(y_test_6, y_pred_6)\n",
    "print(f'MAPE: ', mape)\n",
    "\n",
    "mae = mean_absolute_error(y_test_6, y_pred_6)\n",
    "print(f'MAE: ',mae)"
   ]
  },
  {
   "cell_type": "code",
   "execution_count": null,
   "id": "5d54b117-02bd-4c68-a29b-e652519ca8aa",
   "metadata": {},
   "outputs": [],
   "source": [
    "time_steps = 26\n",
    "\n",
    "X_train_26, y_train_26 = create_dataset(train_set_scaled, train_set_scaled.TOTAL , time_steps)\n",
    "X_test_26,  y_test_26  = create_dataset(test_set_scaled,  test_set_scaled.TOTAL, time_steps)"
   ]
  },
  {
   "cell_type": "code",
   "execution_count": null,
   "id": "2673466f-b4ed-4214-a0dd-b0e6870b8f77",
   "metadata": {},
   "outputs": [],
   "source": [
    "model_3 = lstm_architecture(X_data = X_train_26, rate_dropout=0.2)\n",
    "model_3.compile(optimizer = 'adam', loss = 'mean_squared_error')"
   ]
  },
  {
   "cell_type": "code",
   "execution_count": null,
   "id": "4ad02e83-7569-4262-8355-b9950925b61a",
   "metadata": {},
   "outputs": [],
   "source": [
    "history_3 = model_3.fit(X_train_26,\n",
    "                    y_train_26,\n",
    "                    epochs=100,\n",
    "                    batch_size=32,\n",
    "                    shuffle=False)\n",
    "\n",
    "print(\"...\")\n",
    "print('Terminando a las: ', datetime.datetime.now())"
   ]
  },
  {
   "cell_type": "code",
   "execution_count": null,
   "id": "ad829d1b-e7f1-44b3-9127-45281d2148c5",
   "metadata": {},
   "outputs": [],
   "source": [
    "plt.plot(history_3.history['loss'], label='train')\n",
    "plt.title('Loss function (time_steps = 26)')\n",
    "plt.show()"
   ]
  },
  {
   "cell_type": "code",
   "execution_count": null,
   "id": "0e1fe615-6913-4a4f-b14f-15cd65b68076",
   "metadata": {},
   "outputs": [],
   "source": [
    "y_pred_26 = model_3.predict(X_test_26)"
   ]
  },
  {
   "cell_type": "code",
   "execution_count": null,
   "id": "269a1da2-71bc-413e-b1b3-9b496bac0a2f",
   "metadata": {},
   "outputs": [],
   "source": [
    "y_test_26 = y_test_26 * (train_max[0] - train_min[0]) + train_min[0]    \n",
    "y_pred_26 = y_pred_26 * (train_max[0] - train_min[0]) + train_min[0]    \n",
    "y_train_26 = y_train_26 * (train_max[0] - train_min[0]) + train_min[0]  "
   ]
  },
  {
   "cell_type": "code",
   "execution_count": null,
   "id": "38977d1e-2d3f-41dc-897b-8be7a750700a",
   "metadata": {},
   "outputs": [],
   "source": [
    "plt.figure(num=None, figsize=(15, 6), dpi=80, facecolor='w', edgecolor='k')\n",
    "plt.plot(np.arange(len(y_train_26), len(y_train_26) + len(y_test_26)), y_test_26.flatten(), marker='.', label=\"true\")\n",
    "plt.plot(np.arange(len(y_train_26), len(y_train_26) + len(y_test_26)), y_pred_26.flatten(), 'r', marker='.', label=\"prediction\")\n",
    "#plt.plot(np.arange(0, len(y_train_26)), y_train_26.flatten(), 'g', marker='.', label=\"history\")\n",
    "plt.title('predicciones y valores reales (time_steps = 26)', size=20)\n",
    "plt.ylabel('Count')\n",
    "plt.xlabel('Time Step')\n",
    "plt.legend()\n",
    "plt.show()"
   ]
  },
  {
   "cell_type": "code",
   "execution_count": null,
   "id": "b964ede8-84c3-45c0-810b-dcd123276edc",
   "metadata": {},
   "outputs": [],
   "source": [
    "mse = mean_squared_error(y_test_26, y_pred_26)\n",
    "rmse = np.sqrt(mse)\n",
    "print(f'RMSE: ',rmse)\n",
    "\n",
    "mape = mean_absolute_percentage_error(y_test_26, y_pred_26)\n",
    "print(f'MAPE: ', mape)\n",
    "\n",
    "mae = mean_absolute_error(y_test_26, y_pred_26)\n",
    "print(f'MAE: ',mae)"
   ]
  },
  {
   "cell_type": "markdown",
   "id": "ea43f5de-118e-49c1-9cd0-ebed680ee891",
   "metadata": {},
   "source": [
    "# Prophet"
   ]
  },
  {
   "cell_type": "raw",
   "id": "e1e3b08e-120b-406e-9833-cc063114ebc6",
   "metadata": {},
   "source": [
    "!pip install prophet"
   ]
  },
  {
   "cell_type": "code",
   "execution_count": null,
   "id": "3991fdca-1b57-49a5-a161-fb12b913e504",
   "metadata": {},
   "outputs": [],
   "source": [
    "from prophet import Prophet"
   ]
  },
  {
   "cell_type": "code",
   "execution_count": null,
   "id": "18b93200-bd84-4d0c-bc60-ec5d6f871983",
   "metadata": {},
   "outputs": [],
   "source": [
    "df_prophet = train_df.copy()"
   ]
  },
  {
   "cell_type": "code",
   "execution_count": null,
   "id": "4ec5d353-86f9-4c15-9bd8-0e16e7df0390",
   "metadata": {},
   "outputs": [],
   "source": [
    "df_prophet = df_prophet.reset_index()\n",
    "df_prophet = df_prophet.rename(columns={'FECHA':'ds', 'TOTAL':'y'})\n",
    "df_prophet.head()"
   ]
  },
  {
   "cell_type": "code",
   "execution_count": null,
   "id": "90091fb5-3200-4b94-89d6-5a566d4317df",
   "metadata": {},
   "outputs": [],
   "source": [
    "test_prophet = test_df.copy()"
   ]
  },
  {
   "cell_type": "code",
   "execution_count": null,
   "id": "4117bda5-0a21-4b80-b1c3-f2e22bddb90c",
   "metadata": {},
   "outputs": [],
   "source": [
    "test_prophet = test_prophet.reset_index()\n",
    "test_prophet = test_prophet.rename(columns={'FECHA':'ds', 'TOTAL':'y'})\n",
    "test_prophet.head()"
   ]
  },
  {
   "cell_type": "code",
   "execution_count": null,
   "id": "6ed421c0-b972-486b-bd04-74b42140c1b0",
   "metadata": {},
   "outputs": [],
   "source": [
    "fin_de_año = pd.DataFrame({\n",
    "    'holiday': 'fin de año',\n",
    "    'ds': pd.to_datetime(['2021-12-05', '2022-12-05', '2023-12-05', '2024-12-05']),\n",
    "    'lower_window': -5,\n",
    "    'upper_window': 5\n",
    "})"
   ]
  },
  {
   "cell_type": "code",
   "execution_count": null,
   "id": "879f7de7-7be2-4399-ade6-47c096cc1649",
   "metadata": {},
   "outputs": [],
   "source": [
    "prophet = Prophet(holidays=fin_de_año, changepoint_range=0.95, yearly_seasonality=50)\n",
    "prophet.add_seasonality(name='monthly', period=30.5, fourier_order=15)\n",
    "prophet.fit(df_prophet)"
   ]
  },
  {
   "cell_type": "code",
   "execution_count": null,
   "id": "f7ca6269-68bf-410e-842a-a6a97a908168",
   "metadata": {},
   "outputs": [],
   "source": [
    "prophet_pred = prophet.predict(test_prophet)\n",
    "prophet_pred"
   ]
  },
  {
   "cell_type": "code",
   "execution_count": null,
   "id": "1b6b908b-bb09-4af6-a4df-b9026401851d",
   "metadata": {},
   "outputs": [],
   "source": [
    "plt.figure(num=None, figsize=(15, 6), dpi=80, facecolor='w', edgecolor='k')\n",
    "plt.plot(prophet_pred['ds'], test_prophet['y'], label=\"Valor Real\")\n",
    "plt.plot(prophet_pred['ds'], prophet_pred['yhat'], 'r', label=\"Prediction\")\n",
    "plt.xlabel('Fecha')\n",
    "plt.title('predicciones y valores reales Prophet', size=20)\n",
    "plt.legend()\n",
    "plt.show()"
   ]
  },
  {
   "cell_type": "code",
   "execution_count": null,
   "id": "d41c070e-5ade-4fd2-b175-36235d161495",
   "metadata": {},
   "outputs": [],
   "source": [
    "mse = mean_squared_error(test_prophet['y'], prophet_pred['yhat'])\n",
    "rmse = np.sqrt(mse)\n",
    "print(f'RMSE: ',rmse)\n",
    "\n",
    "mape = mean_absolute_percentage_error(test_prophet['y'], prophet_pred['yhat'])\n",
    "print(f'MAPE: ', mape)\n",
    "\n",
    "mae = mean_absolute_error(test_prophet['y'], prophet_pred['yhat'])\n",
    "print(f'MAE: ',mae)"
   ]
  },
  {
   "cell_type": "code",
   "execution_count": null,
   "id": "0a8ba087-da93-4d47-965d-6e75b0d83449",
   "metadata": {},
   "outputs": [],
   "source": [
    "prophet.plot_components(prophet_pred)"
   ]
  }
 ],
 "metadata": {
  "kernelspec": {
   "display_name": "Python [conda env:base] *",
   "language": "python",
   "name": "conda-base-py"
  },
  "language_info": {
   "codemirror_mode": {
    "name": "ipython",
    "version": 3
   },
   "file_extension": ".py",
   "mimetype": "text/x-python",
   "name": "python",
   "nbconvert_exporter": "python",
   "pygments_lexer": "ipython3",
   "version": "3.12.4"
  }
 },
 "nbformat": 4,
 "nbformat_minor": 5
}
